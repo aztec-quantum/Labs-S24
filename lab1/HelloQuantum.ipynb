{
 "cells": [
  {
   "cell_type": "markdown",
   "metadata": {},
   "source": [
    "# Hello Quantum - Lab 1\n",
    "\n",
    "\n",
    "### Purpose:\n",
    "- Learn the basics of Python 3\n",
    "- Practice Python and build the skill requirements needed to Quantum Program\n",
    "- Introduce Qiskit and the IBM Quantum Platform\n",
    "***\n",
    "\n",
    "Part 1:\n",
    "- Learn how to declare variables and print output\n",
    "- Basic String manipulation\n",
    "- Integers and floats\n",
    "- Arrays and Lists\n",
    "- Logical operators"
   ]
  },
  {
   "cell_type": "code",
   "execution_count": null,
   "metadata": {},
   "outputs": [],
   "source": [
    "# Print a string to Standard Output directly\n",
    "\n",
    "print(\"Hello Quantum!\")\n",
    "\n",
    "# Declare a  String variable\n",
    "# Python 3 is typed language, it is not strongly typed. Up to the developer when to use typed variables and functions\n",
    "string = \"Hello Quantum\"\n",
    "print(string)\n",
    "\n",
    "#Mutate the string by concatenating a new string\n",
    "string += \"!\"\n",
    "print(string)\n"
   ]
  },
  {
   "cell_type": "code",
   "execution_count": null,
   "metadata": {},
   "outputs": [],
   "source": [
    "#Different \"kinds\" of strings\n",
    "\n",
    "print('double quotes within the \"string\"')\n",
    "print(\"single quotes within the 'string'\")\n",
    "print(\"\"\"This\n",
    "is a multi-line\n",
    "string\"\"\")"
   ]
  },
  {
   "cell_type": "code",
   "execution_count": null,
   "metadata": {},
   "outputs": [],
   "source": [
    "#Declare a String\n",
    "long_string = \"asdifbasodibfsiodfbioasdbfioasbdiofbasiodbfioasd\"\n",
    "#Get the length of the string\n",
    "length = len(long_string)\n",
    "#Print the length\n",
    "print(length)\n",
    "#Print the middle character index\n",
    "print(length/2)\n",
    "#Print the middle character\n",
    "print(long_string[int(length/2)])"
   ]
  },
  {
   "cell_type": "code",
   "execution_count": null,
   "metadata": {},
   "outputs": [],
   "source": [
    "#Declare an integer\n",
    "integer_1 = 1_000_000\n",
    "integer_2 = 1000000\n",
    "#Print the integers\n",
    "print(integer_1)\n",
    "print(integer_2)\n",
    "\n",
    "#Function that takes two parameters(integers) and returns their sum\n",
    "def sum_typed(int1:int, int2:int)->int:\n",
    "    return int1 + int2\n",
    "\n",
    "#Function that takes two parameters(any type that the + works with) and returns their sum\n",
    "def sum(int1,int2):\n",
    "    return int1 + int2\n",
    "\n",
    "print(sum_typed(integer_1, integer_2))\n",
    "print(sum(integer_1, integer_2))\n",
    "\n",
    "#Sum can work with strings too\n",
    "string_1 = \"abc\"\n",
    "string_2 = \"def\"\n",
    "print(sum(string_1, string_2))"
   ]
  },
  {
   "cell_type": "code",
   "execution_count": null,
   "metadata": {},
   "outputs": [],
   "source": [
    "#function that squares a number\n",
    "def square(x):\n",
    "    return x**2\n",
    "\n",
    "#Write a function that takes an integer as a parameter and returns it's value cubed x^3\n",
    "\n",
    "def cube(x):\n",
    "    #YOUR CODE HERE\n",
    "    return x\n",
    "    #END CODE\n",
    "#Write a function that takes an integer as a parameter and returns it's square root x^1/2\n",
    "def square_root(x):\n",
    "    #YOUR CODE HERE\n",
    "    return x\n",
    "    #END CODE\n",
    "\n",
    "\n",
    "#Test your functions\n",
    "print(square(2) == 4)\n",
    "print(cube(2) == 8)\n",
    "print(cube(-2) == -8)\n",
    "print(square_root(4) == 2)"
   ]
  },
  {
   "cell_type": "code",
   "execution_count": null,
   "metadata": {},
   "outputs": [],
   "source": [
    "#Bad example of some logical operators. Python has similar logical operators to C++ and Java\n",
    "print(1 <= 1)\n",
    "print(1 != 1)\n",
    "print(1 != 2)\n",
    "print(\"good\" != \"bad\")\n",
    "print(\"good\" != \"Good\")\n",
    "print(123 == \"123\")"
   ]
  },
  {
   "cell_type": "code",
   "execution_count": null,
   "metadata": {},
   "outputs": [],
   "source": [
    "#Lists are mutable sequences\n",
    "#Declare a List\n",
    "names = [\"Alice\", \"Bob\", \"Charlie\"]\n",
    "#Append an element to the list\n",
    "names.append(\"Dave\")\n",
    "#Extend the list with another list\n",
    "names.extend([\"Eve\", \"Frank\"])\n",
    "\n",
    "#Print different portions of the list\n",
    "print(names)\n",
    "print(names[2:])\n",
    "print(names[:2])\n",
    "#Insert an element at the beginning of the list\n",
    "names.insert(0, \"Ali\")\n",
    "print(names)\n",
    "\n",
    "#Parse a string into a list, split on spaces\n",
    "string = \"Hello Aztec Quantum! Welcome to the world of Python! Get ready to have your mind blown with Qiskit!\"\n",
    "words = string.split(\" \")\n",
    "#prints the words list\n",
    "print(words)\n",
    "#for each word in words print the word with a space after it. end=\"\" means don't print a newline\n",
    "for word in words:\n",
    "    print(word+\" \",end=\"\")"
   ]
  },
  {
   "cell_type": "code",
   "execution_count": null,
   "metadata": {},
   "outputs": [],
   "source": [
    "#Tuples are immutable sequences\n",
    "names = (\"Alice\", \"Bob\", \"Charlie\")\n",
    "print(names)\n",
    "print(names[2:])\n",
    "print(names[:2])\n",
    "print(names[0])\n",
    "print(names[0:1])\n",
    "print(names[0:2])\n"
   ]
  },
  {
   "cell_type": "code",
   "execution_count": null,
   "metadata": {},
   "outputs": [],
   "source": [
    "ints = [1,2,4,3]\n",
    "ints_sorted = ints[:]\n",
    "ints_sorted.sort()\n",
    "print(ints)\n",
    "print(ints_sorted)"
   ]
  },
  {
   "cell_type": "code",
   "execution_count": null,
   "metadata": {},
   "outputs": [],
   "source": [
    "#Write a function that takes a list of integers and returns the sum of the list\n",
    "def sum(list):\n",
    "    #YOUR CODE HERE\n",
    "    return 0\n",
    "    #END CODE\n",
    "\n",
    "#Test case\n",
    "print(sum(ints) == 10)"
   ]
  },
  {
   "cell_type": "markdown",
   "metadata": {},
   "source": [
    "Part 2:\n",
    "- Make a small python app, capable of calculating the change to give\n",
    "- The app should take in two inputs from the user\n",
    "- Input one is the price of the objects\n",
    "- Input two is the amount paid\n",
    "- The app should return a list of tuples, with each tuple having the denomination of change and the number of coins\n",
    "- Use plural stings: 1 Penny -> 2 Pennies<br>\n",
    "Denominations: Penny, Nickle, Dime, Quarter, Half-Dollar, Dollar, Five-Dollar, Ten-Dollar, Twenty-Dollar, Fifty-Dollar, Hundred-Dollar\n",
    "\n",
    "Feel free to modify the existing code as seen fit. As long as the app performs the expected behavior, any changes are fine.\n",
    "\n",
    "Example:<br><br>\n",
    "Please input the price:<br>\n",
    "13.76<br>\n",
    "Please input the amount paid:<br>\n",
    "20.00<br>\n",
    "Give 1 Five-dollar, 1 Dollar, 2 Dime's, 4 Pennies as change<br>"
   ]
  },
  {
   "cell_type": "code",
   "execution_count": null,
   "metadata": {},
   "outputs": [],
   "source": [
    "def calc_change(price, paid, change):\n",
    "    #YOUR CODE HERE\n",
    "    return\n",
    "    #END CODE\n",
    "\n",
    "def print_change(change):\n",
    "    #YOUR CODE HERE\n",
    "    print()\n",
    "    #END CODE\n",
    "\n",
    "def app():\n",
    "    #Get Input 1 from User\n",
    "    price = input(\"Please input the price: \")\n",
    "    #Get Input 2 from User\n",
    "    paid = input(\"Please input the amount paid: \")\n",
    "    #Declare a list of tuples to hold the change\n",
    "    change = ((\"Penn\", 0),(\"Nickle\",0),(\"Dime\",0),(\"Quarter\",0),(\"Half-Dollar\",0),(\"Dollar\",0),(\"Five-Dollar\",0),(\"Ten-Dollar\",0),(\"Twenty-Dollar\",0),(\"Fifty-Dollar\",0),(\"Hundred-Dollar\",0))\n",
    "    #Calculate the needed change and modify the tuple\n",
    "    calc_change(price, paid, change)\n",
    "    #Parse the tuple and print the change\n",
    "    print_change(change)\n",
    "\n",
    "app()    "
   ]
  },
  {
   "cell_type": "markdown",
   "metadata": {},
   "source": [
    "## Congrats!! Your Done with an Intro to Python\n",
    "\n",
    "You have successfully laid a foundation to begin learning how to develop with python!\n",
    "\n",
    "Python is a great langauge for data analysis, ML development, Quantum Computing, and more. Python is heavily adopted within industry and has a myriad of applications. \n",
    "Python has been known to be a slow and bulky langauge. Yet, it is still utilized because the ease of the language and the great variety of libraries and tools available!\n",
    "\n",
    "BONUS:\n",
    "Learn File I/O in Python\n",
    "Learn how to develop in Python using the Object-Oriented Paradigm"
   ]
  },
  {
   "cell_type": "markdown",
   "metadata": {},
   "source": [
    "Part 3:\n",
    "- A brief introduction to Quantum Information\n",
    "- Learn the default state of Qubit\n",
    "- Learn techniques for visualizing quantum circuits"
   ]
  },
  {
   "cell_type": "code",
   "execution_count": 1,
   "metadata": {},
   "outputs": [
    {
     "data": {
      "image/png": "[encoded data removed]",
      "text/plain": [
       "<Figure size 287.294x284.278 with 1 Axes>"
      ]
     },
     "execution_count": 1,
     "metadata": {},
     "output_type": "execute_result"
    }
   ],
   "source": [
    "from qiskit import QuantumCircuit, execute, Aer\n",
    "from qiskit.quantum_info import Statevector\n",
    "from qiskit.visualization import plot_bloch_multivector, plot_histogram\n",
    "\n",
    "#Create a quantum circuit with 2 qubits and 2 classical bits. Stored as qc variable\n",
    "qc = QuantumCircuit(2,2)\n",
    "\n",
    "#Apply an XGate to the first qubit(q0)\n",
    "qc.x(0)\n",
    "\n",
    "#Store the statevector of the circuit in the state variable\n",
    "state = Statevector(qc)\n",
    "\n",
    "#Measure the value of qubit 0 and 1 and store the result in classical bit 0 and 1 respectively\n",
    "qc.measure([0,1],[0,1])\n",
    "\n",
    "#Execute the circuit\n",
    "job = execute(qc, backend=Aer.get_backend(\"qasm_simulator\"), shots=10)\n",
    "\n",
    "#Visualize the circuit\n",
    "qc.draw(output=\"mpl\", style=\"iqp\")\n",
    "\n",
    "\n",
    "#NOTE: The circuit is empty expect for the two measurement gates"
   ]
  },
  {
   "cell_type": "markdown",
   "metadata": {},
   "source": [
    "`git clone https://github.com/aztec-quantum/Labs-S24.git`"
   ]
  },
  {
   "cell_type": "code",
   "execution_count": null,
   "metadata": {},
   "outputs": [],
   "source": [
    "#NOTE: The default state of a qubit is |0>, which is a vector [1,0] or equivalent to the classical bit 0\n",
    "#Visualize the statevector\n",
    "plot_bloch_multivector(state)"
   ]
  },
  {
   "cell_type": "code",
   "execution_count": null,
   "metadata": {},
   "outputs": [],
   "source": [
    "#Plot the histogram of the circuit results\n",
    "plot_histogram(job.result().get_counts())   "
   ]
  },
  {
   "cell_type": "code",
   "execution_count": null,
   "metadata": {},
   "outputs": [],
   "source": [
    "def greet(name):\n",
    "    print(f\"Hello, {name}!\")\n",
    "\n",
    "greet(\"Alice\")"
   ]
  },
  {
   "cell_type": "code",
   "execution_count": null,
   "metadata": {},
   "outputs": [],
   "source": [
    "def celsius_to_fahrenheit(celsius):\n",
    "    fahrenheit = (celsius * 9/5) + 32\n",
    "    return fahrenheit"
   ]
  },
  {
   "cell_type": "code",
   "execution_count": null,
   "metadata": {},
   "outputs": [],
   "source": []
  }
 ],
 "metadata": {
  "kernelspec": {
   "display_name": "Python 3",
   "language": "python",
   "name": "python3"
  },
  "language_info": {
   "codemirror_mode": {
    "name": "ipython",
    "version": 3
   },
   "file_extension": ".py",
   "mimetype": "text/x-python",
   "name": "python",
   "nbconvert_exporter": "python",
   "pygments_lexer": "ipython3",
   "version": "3.11.7"
  }
 },
 "nbformat": 4,
 "nbformat_minor": 2
}
