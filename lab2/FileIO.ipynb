{
 "cells": [
  {
   "cell_type": "code",
   "execution_count": null,
   "metadata": {},
   "outputs": [],
   "source": [
    "\"\"\"\n",
    "Python makes performing file I/O simple. Take a look\n",
    "at how to read and write to files here:\n",
    "\n",
    "https://docs.python.org/3/tutorial/inputoutput.html#reading-and-writing-files\n",
    "\"\"\"\n",
    "\n",
    "# Open up the \"foo.txt\" file (which already exists) for reading\n",
    "# Store and Print all the contents of the file\n",
    "# Note: pay close attention to your current directory when trying to open \"foo.txt\"\n",
    "\n",
    "# YOUR CODE HERE\n",
    "\n",
    "# Open up a file called \"bar.txt\" (which doesn't exist yet) for\n",
    "# writing. Remove all characters from the stored foo.txt content that isn't a letter. Write the arbitrary content to the bar.txt file,\n",
    "# then close the file. Open up \"bar.txt\" and inspect the hidden message.\n",
    "\n",
    "# YOUR CODE HERE"
   ]
  }
 ],
 "metadata": {
  "language_info": {
   "name": "python"
  }
 },
 "nbformat": 4,
 "nbformat_minor": 2
}
