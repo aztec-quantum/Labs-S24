{
 "cells": [
  {
   "cell_type": "code",
   "execution_count": null,
   "metadata": {},
   "outputs": [],
   "source": [
    "from qiskit import QuantumCircuit, QuantumRegister, ClassicalRegister\n",
    "from qiskit.circuit import Parameter\n",
    "import numpy as np\n",
    "from qiskit.circuit.library import XGate\n",
    "from qiskit.visualization import array_to_latex, plot_bloch_multivector, visualize_transition, plot_histogram\n",
    "from qiskit.quantum_info import Statevector\n",
    "from qiskit.circuit import Parameter\n",
    "from qiskit_aer.primitives import Sampler\n",
    "from qiskit.result import marginal_counts"
   ]
  },
  {
   "cell_type": "markdown",
   "metadata": {},
   "source": [
    "[IBM Quantum Platform](https://www.google.com/url?sa=t&rct=j&q=&esrc=s&source=web&cd=&ved=2ahUKEwiwm8H8gcyBAxUOIUQIHezkACgQjBB6BAgMEAE&url=https%3A%2F%2Fquantum-computing.ibm.com%2Flogin&usg=AOvVaw1GwPlk_pqjt5PQJQ59hlEB&opi=89978449)\n",
    "\n",
    "[2023 Qiskit Global Summer School](https://www.youtube.com/playlist?list=PLOFEBzvs-VvqoeIypXYLLf0PY-WOQMLR3)"
   ]
  },
  {
   "cell_type": "markdown",
   "metadata": {},
   "source": [
    "### Lab 3 Review\n",
    "---\n",
    "- Q1: What are the two basis states of a Qubit? What is the default basis state of a Qubit?\n",
    "\n",
    "- Q2: Are Standard Gates reversible?\n",
    "\n",
    "- Q3: What is a XGate? -- What is it's axis of rotation? How much does it rotate by?\n",
    "- Q4: What is a YGate? -- What is it's axis of rotation? How much does it rotate by?\n",
    "- Q5: What is a ZGate? -- What is it's axis of rotation? How much does it rotate by?\n",
    "\n",
    "- Q6: If you needed to rotate with respect to the X-axis some arbitrary amount, which standard gate would you use?\n",
    "- Q7: If you needed to rotate with respect to the Y-axis some arbitrary amount, which standard gate would you use?\n",
    "- Q8: If you needed to rotate with respect to the Z-axis some arbitrary amount, which standard gate would you use?\n",
    "\n",
    "- Q9: What are the purpose of Control Gates? The CXGate operates on how many Qubits?\n",
    "\n",
    "- Q10: Is the measure standard operation reversible? "
   ]
  },
  {
   "cell_type": "code",
   "execution_count": null,
   "metadata": {},
   "outputs": [],
   "source": [
    "ket0 = [[1], [0]]\n",
    "array_to_latex(ket0)"
   ]
  },
  {
   "cell_type": "markdown",
   "metadata": {},
   "source": [
    "Qiskit's [`Statevector`](https://qiskit.org/documentation/stubs/qiskit.quantum_info.Statevector.html) class can take different forms of input (e.g. python list, numpy array, another state vector) to construct a state vector.\n",
    "\n",
    "Let's take the `ket0` object we created earlier and convert it to a `Statevector` object:"
   ]
  },
  {
   "cell_type": "code",
   "execution_count": null,
   "metadata": {},
   "outputs": [],
   "source": [
    "state_0 = Statevector(ket0)\n",
    "plot_bloch_multivector(state_0)"
   ]
  },
  {
   "cell_type": "code",
   "execution_count": null,
   "metadata": {},
   "outputs": [],
   "source": [
    "ket1 = [[0], [1]]\n",
    "array_to_latex(ket1)"
   ]
  },
  {
   "cell_type": "code",
   "execution_count": null,
   "metadata": {},
   "outputs": [],
   "source": [
    "state_1 = Statevector(ket1)\n",
    "plot_bloch_multivector(state_1)"
   ]
  },
  {
   "cell_type": "code",
   "execution_count": null,
   "metadata": {},
   "outputs": [],
   "source": [
    "x = XGate()\n",
    "x_matrix = x.to_matrix()\n",
    "array_to_latex(x_matrix)"
   ]
  },
  {
   "cell_type": "code",
   "execution_count": null,
   "metadata": {},
   "outputs": [],
   "source": [
    "matrix_ex = x_matrix @ ket0\n",
    "state_0_X = Statevector(matrix_ex)\n",
    "plot_bloch_multivector(state_0_X, title=\"X|0>\")"
   ]
  },
  {
   "cell_type": "code",
   "execution_count": null,
   "metadata": {},
   "outputs": [],
   "source": [
    "array_to_latex(matrix_ex)"
   ]
  },
  {
   "cell_type": "markdown",
   "metadata": {},
   "source": [
    "#### Problem #1\n",
    "---\n",
    "Given the visualized transition below, apply a standard gate to return the state to |0>. There is multiple correct ways to do this. However, an optimized solution (minimal circuit depth) only requires one gate."
   ]
  },
  {
   "cell_type": "code",
   "execution_count": null,
   "metadata": {},
   "outputs": [],
   "source": [
    "qc = QuantumCircuit(1)\n",
    "qc.x(0)\n",
    "qc.h(0)\n",
    "qc.y(0)\n",
    "#YOUR CODE GOES HERE\n",
    "qc.ry(-np.pi/2,0)\n",
    "\n",
    "visualize_transition(qc, trace=True, fpg=30)"
   ]
  },
  {
   "cell_type": "markdown",
   "metadata": {},
   "source": [
    "#### Problem #2\n",
    "--- \n",
    "Given the visualized transition below, apply a single gate to put the qubit in the |1> state. Similiar to the problem above, there is multiple correct solutions."
   ]
  },
  {
   "cell_type": "code",
   "execution_count": null,
   "metadata": {},
   "outputs": [],
   "source": [
    "qc = QuantumCircuit(1)\n",
    "qc.h(0)\n",
    "qc.h(0)\n",
    "#YOUR CODE GOES HERE\n",
    "qc.x(0)\n",
    "visualize_transition(qc, fpg=30, trace=True)"
   ]
  },
  {
   "cell_type": "markdown",
   "metadata": {},
   "source": [
    "#### Problem #3\n",
    "---\n",
    "Given the visualized transition below, apply a single gate to set the qubit's state to |1>"
   ]
  },
  {
   "cell_type": "code",
   "execution_count": null,
   "metadata": {},
   "outputs": [],
   "source": [
    "qc = QuantumCircuit(1)\n",
    "qc.x(0)\n",
    "qc.h(0)\n",
    "#YOUR CODE GOES HERE\n",
    "qc.ry(-np.pi/2,0)\n",
    "visualize_transition(qc, fpg=30, trace=True)"
   ]
  },
  {
   "cell_type": "markdown",
   "metadata": {},
   "source": [
    "#### Problem #4\n",
    "---\n",
    "Unlike the previous problems, you do not have to figure out which gate to use. Apply an RXGate to qubit 0, to set the state of the qubit to it's default state."
   ]
  },
  {
   "cell_type": "code",
   "execution_count": null,
   "metadata": {},
   "outputs": [],
   "source": [
    "qc = QuantumCircuit(1)\n",
    "qc.x(0)\n",
    "qc.ry(np.pi/2, 0)\n",
    "qc.rz(-np.pi/2, 0)\n",
    "#YOUR CODE GOES HERE\n",
    "qc.rx(np.pi/2,0)\n",
    "visualize_transition(qc, trace=True, fpg=30)"
   ]
  },
  {
   "cell_type": "markdown",
   "metadata": {},
   "source": [
    "- Due top the No Cloning Theorem, Quantum Information cannot be copied. Quantum Telportation provides the ability for the original state to be reconstructed. This is inherently distructive for the original qubit. The reason for the Quantum States distruction is the Standard Operation, measurement. \n"
   ]
  },
  {
   "cell_type": "code",
   "execution_count": null,
   "metadata": {},
   "outputs": [],
   "source": [
    "q = QuantumCircuit(QuantumRegister(1,\"Control\"))\n",
    "phase_angle = Parameter('T')\n",
    "q.ry(phase_angle, 0)\n",
    "\n",
    "q.draw(output=\"mpl\")"
   ]
  },
  {
   "cell_type": "markdown",
   "metadata": {},
   "source": [
    "## Quantum Teleportation using a Bell State"
   ]
  },
  {
   "cell_type": "code",
   "execution_count": null,
   "metadata": {},
   "outputs": [],
   "source": [
    "#Copy the initial circuit\n",
    "qc = q.copy()\n",
    "\n",
    "#Attach registers necessary for teleportation\n",
    "bell = QuantumRegister(2, 'Bell')\n",
    "alice = ClassicalRegister(2, 'Alice')\n",
    "bob = ClassicalRegister(1, 'Bob')\n",
    "\n",
    "qc.add_register(bell, alice, bob)\n",
    "\n",
    "qc.barrier()\n",
    "\n",
    "#Create Bell state (Entagle qubits bell[0] and bell[1])\n",
    "qc.h(bell[0])\n",
    "qc.cx(bell[0],bell[1])\n",
    "\n",
    "qc.barrier()\n",
    "\n",
    "#Alice applies operations to her qubit's\n",
    "qc.cx(0,1)\n",
    "qc.h(0)\n",
    "\n",
    "qc.barrier()\n",
    "\n",
    "#Alice measures her qubits, to send the results to Bob\n",
    "qc.measure(0,alice[0])\n",
    "qc.measure(bell[0],alice[1])\n",
    "\n",
    "# This is an example of dynamic circuits\n",
    "# We can create a circuit that only applies an operation if a certain state is measured\n",
    "with qc.if_test((alice[1],1)):\n",
    "    qc.x(bell[1])\n",
    "    with qc.if_test((alice[0],1)):\n",
    "        qc.z(bell[1])\n",
    "\n",
    "qc.barrier()\n",
    "\n",
    "#finally we can measure Bob's qubit to recover the state\n",
    "qc.measure(bell[1], bob)\n",
    "qc.draw(output=\"mpl\")"
   ]
  },
  {
   "cell_type": "code",
   "execution_count": null,
   "metadata": {},
   "outputs": [],
   "source": [
    "#The initial circuit with only an angle parameter\n",
    "q.measure_all()"
   ]
  },
  {
   "cell_type": "code",
   "execution_count": null,
   "metadata": {},
   "outputs": [],
   "source": [
    "#The angle we want to test\n",
    "angle = 2*np.pi/7\n",
    "\n",
    "#Sample is necessary because we are using Dynamic Circuits which do not work with simulator\n",
    "sampler = Sampler()\n",
    "\n",
    "#Run the circuit with the angle parameter\n",
    "before_tele = sampler.run(q.assign_parameters({phase_angle: angle}))\n",
    "before = before_tele.result().quasi_dists[0].binary_probabilities()\n",
    "plot_histogram(before)"
   ]
  },
  {
   "cell_type": "code",
   "execution_count": null,
   "metadata": {},
   "outputs": [],
   "source": [
    "# NOTE this block is used to visualize the operations made by Alice\n",
    "temp_circ = QuantumCircuit(1)\n",
    "temp_circ.ry(angle, 0)\n",
    "temp_circ.h(0)\n",
    "\n",
    "visualize_transition(temp_circ, trace=True, fpg=30)"
   ]
  },
  {
   "cell_type": "code",
   "execution_count": null,
   "metadata": {},
   "outputs": [],
   "source": [
    "#Run the teleportation circuit with binded parameter \n",
    "after_tele = sampler.run(qc.bind_parameters({phase_angle: angle}))\n",
    "\n",
    "\n",
    "after = after_tele.result().quasi_dists[0].binary_probabilities()\n",
    "\n",
    "print(\"Original probabilities: \",before)\n",
    "print(\"Teleported probabilities: \",after)\n"
   ]
  },
  {
   "cell_type": "markdown",
   "metadata": {},
   "source": [
    "Notice that binary probabilities are different between the circuits? The original circuit only contains a single classical register while the teleportation circuit contains three. However, Bob is only interested in his Classical Register `Bob`(Third ClassicalRegister, index 2). Qiskit's [marginal_counts](https://qiskit.org/documentation/apidoc/result.html#qiskit.result.marginal_counts) method provides a mean of combining probabilities of a certain index."
   ]
  },
  {
   "cell_type": "code",
   "execution_count": null,
   "metadata": {},
   "outputs": [],
   "source": [
    "teleported_counts = marginal_counts(after, indices=[2])"
   ]
  },
  {
   "cell_type": "code",
   "execution_count": null,
   "metadata": {},
   "outputs": [],
   "source": [
    "legend = ['Before Teleportation', 'After Teleportation']\n",
    "plot_histogram([before_tele.result().quasi_dists[0].binary_probabilities(),teleported_counts],legend=legend)"
   ]
  }
 ],
 "metadata": {
  "kernelspec": {
   "display_name": "Python 3",
   "language": "python",
   "name": "python3"
  },
  "language_info": {
   "codemirror_mode": {
    "name": "ipython",
    "version": 3
   },
   "file_extension": ".py",
   "mimetype": "text/x-python",
   "name": "python",
   "nbconvert_exporter": "python",
   "pygments_lexer": "ipython3",
   "version": "3.11.5"
  },
  "orig_nbformat": 4
 },
 "nbformat": 4,
 "nbformat_minor": 2
}
